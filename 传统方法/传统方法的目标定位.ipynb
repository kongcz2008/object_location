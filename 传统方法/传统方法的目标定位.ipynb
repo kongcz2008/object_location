{
 "cells": [
  {
   "cell_type": "code",
   "execution_count": 1,
   "metadata": {},
   "outputs": [],
   "source": [
    "import cv2\n",
    "import numpy as np"
   ]
  },
  {
   "cell_type": "code",
   "execution_count": 2,
   "metadata": {},
   "outputs": [],
   "source": [
    "def create_rgb_hist(image):\n",
    "    '''\n",
    "    创建R,G,B直方图\n",
    "    :param image: 输入图片\n",
    "    :return:np.array类型的直方图\n",
    "    '''\n",
    "    h, w, c = image.shape\n",
    "    rgHist = np.zeros([16 * 16 * 16, 1], np.float32)  # 必须是float型\n",
    "    hsize = 256 / 16\n",
    "    for row in range(0, h, 1):\n",
    "        for col in range(0, w, 1):\n",
    "            b = image[row, col, 0]\n",
    "            g = image[row, col, 1]\n",
    "            r = image[row, col, 2]\n",
    "            index = np.int(b / hsize) * 16 * 16 + np.int(g / hsize) * 16 + np.int(r / hsize)\n",
    "            rgHist[np.int(index), 0] = rgHist[np.int(index), 0] + 1\n",
    "    return rgHist"
   ]
  },
  {
   "cell_type": "code",
   "execution_count": 3,
   "metadata": {},
   "outputs": [],
   "source": [
    "def match_for_template(image2match,template,method,threshold):\n",
    "    '''\n",
    "    基于opencv的模板匹配，使用模板匹配在图像中寻找物体\n",
    "    :param image2match:需要匹配的图像\n",
    "    :param template:需要寻找的物体图像\n",
    "    :param method:这里选用归一化相关匹配\n",
    "    :param threshold:\n",
    "    :return:\n",
    "    '''\n",
    "    res = cv2.matchTemplate(image2match, template, method)\n",
    "    point_list = []\n",
    "    loc = np.where(res >= threshold)  # 匹配程度大于%80的坐标y,x\n",
    "    for pt in zip(*loc[::-1]):  # *号表示可选参数\n",
    "        point = (pt[0], pt[1])\n",
    "        point_list.append(point)\n",
    "    return point_list"
   ]
  },
  {
   "cell_type": "code",
   "execution_count": 4,
   "metadata": {},
   "outputs": [],
   "source": [
    "img_rgb = cv2.imread(\"./image/source.JPG\")\n",
    "template = cv2.imread('./image/object.JPG')\n",
    "h, w = template.shape[:2]\n",
    "       "
   ]
  },
  {
   "cell_type": "code",
   "execution_count": 5,
   "metadata": {},
   "outputs": [],
   "source": [
    "point_list=[]\n",
    "point_list = match_for_template(img_rgb, template, cv2.TM_CCOEFF_NORMED,0.55)"
   ]
  },
  {
   "cell_type": "code",
   "execution_count": 6,
   "metadata": {},
   "outputs": [
    {
     "data": {
      "text/plain": [
       "821"
      ]
     },
     "execution_count": 6,
     "metadata": {},
     "output_type": "execute_result"
    }
   ],
   "source": [
    "len(point_list)"
   ]
  },
  {
   "cell_type": "code",
   "execution_count": 7,
   "metadata": {},
   "outputs": [],
   "source": [
    "# 模板匹配后符合要求的所有图案数量\n",
    "length = len(point_list)\n",
    "# 设定相同点的阈值\n",
    "equal_point_threshold = 4\n",
    "# 如果两个点距离在阈值范围内，则等同，然后用集合去重\n",
    "for i in range(length):\n",
    "    for j in range(length):\n",
    "        if abs(point_list[i][0] - point_list[j][0]) <= equal_point_threshold and abs(\n",
    "                    point_list[i][1] - point_list[j][1]) <= equal_point_threshold:\n",
    "            point_list[i] = point_list[j]\n",
    "point_set = set(point_list)"
   ]
  },
  {
   "cell_type": "code",
   "execution_count": 8,
   "metadata": {},
   "outputs": [],
   "source": [
    "images_list = []  # 记录截图信息，x,y 图片\n",
    "for pt in point_set:  # *号表示可选参数\n",
    "    right_bottom = (pt[0] + w, pt[1] + h)\n",
    "    images_list.append((pt[0], pt[1], img_rgb[pt[1]:pt[1] + h, pt[0]:pt[0] + w]))"
   ]
  },
  {
   "cell_type": "code",
   "execution_count": 9,
   "metadata": {},
   "outputs": [],
   "source": [
    "match_images = []\n",
    "template_hist = create_rgb_hist(template)\n",
    "for image in images_list:\n",
    "    image_hist = create_rgb_hist(image[2])\n",
    "    copare_result = cv2.compareHist(template_hist, image_hist, cv2.HISTCMP_CORREL)  # 计算两直方图的相关性\n",
    "    if copare_result > 0.8:\n",
    "        match_images.append(image)\n"
   ]
  },
  {
   "cell_type": "code",
   "execution_count": 10,
   "metadata": {},
   "outputs": [
    {
     "name": "stdout",
     "output_type": "stream",
     "text": [
      "[((359, 143), (359, 162), (395, 143), (395, 162)), ((142, 121), (142, 140), (178, 121), (178, 140)), ((567, 163), (567, 182), (603, 163), (603, 182)), ((271, 123), (271, 142), (307, 123), (307, 142)), ((184, 123), (184, 142), (220, 123), (220, 142)), ((144, 141), (144, 160), (180, 141), (180, 160)), ((317, 141), (317, 160), (353, 141), (353, 160)), ((444, 123), (444, 142), (480, 123), (480, 142)), ((357, 123), (357, 142), (393, 123), (393, 142)), ((272, 143), (272, 162), (308, 143), (308, 162)), ((142, 162), (142, 181), (178, 162), (178, 181)), ((186, 143), (186, 162), (222, 143), (222, 162)), ((444, 164), (444, 183), (480, 164), (480, 183)), ((97, 164), (97, 183), (133, 164), (133, 183)), ((184, 164), (184, 183), (220, 164), (220, 183)), ((99, 143), (99, 162), (135, 143), (135, 162)), ((399, 121), (399, 140), (435, 121), (435, 140)), ((397, 142), (397, 161), (433, 142), (433, 161)), ((445, 143), (445, 162), (481, 143), (481, 162)), ((316, 121), (316, 140), (352, 121), (352, 140))]\n"
     ]
    },
    {
     "data": {
      "text/plain": [
       "-1"
      ]
     },
     "execution_count": 10,
     "metadata": {},
     "output_type": "execute_result"
    }
   ],
   "source": [
    "#输出匹配到的图片信息\n",
    "image_match_cord = []#记录每个匹配到的图片的坐标（top,left,right,bottom)\n",
    "for pt in match_images:\n",
    "    right_bottom = (pt[0] + w, pt[1] + h)\n",
    "    image_match_cord.append((((pt[0], pt[1]), (pt[0], pt[1] + h), (pt[0] + w, pt[1]), (pt[0] + w, pt[1] + h))))\n",
    "    cv2.rectangle(img_rgb, (pt[0], pt[1]), right_bottom, (0, 0, 255), 1)\n",
    "print(image_match_cord)\n",
    "cv2.imshow('Detected', img_rgb)\n",
    "cv2.waitKey(0)"
   ]
  },
  {
   "cell_type": "markdown",
   "metadata": {},
   "source": [
    "![title](./result.JPG)"
   ]
  },
  {
   "cell_type": "code",
   "execution_count": null,
   "metadata": {},
   "outputs": [],
   "source": []
  }
 ],
 "metadata": {
  "kernelspec": {
   "display_name": "Python 3",
   "language": "python",
   "name": "python3"
  },
  "language_info": {
   "codemirror_mode": {
    "name": "ipython",
    "version": 3
   },
   "file_extension": ".py",
   "mimetype": "text/x-python",
   "name": "python",
   "nbconvert_exporter": "python",
   "pygments_lexer": "ipython3",
   "version": "3.7.3"
  }
 },
 "nbformat": 4,
 "nbformat_minor": 2
}
