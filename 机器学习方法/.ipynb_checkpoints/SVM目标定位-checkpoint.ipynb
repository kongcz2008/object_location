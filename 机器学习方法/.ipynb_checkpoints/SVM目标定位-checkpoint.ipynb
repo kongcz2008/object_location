{
 "cells": [
  {
   "cell_type": "code",
   "execution_count": 1,
   "metadata": {},
   "outputs": [],
   "source": [
    "import sklearn\n",
    "import numpy as np\n",
    "import cv2\n",
    "import os\n",
    "from sklearn import preprocessing\n",
    "from sklearn import svm\n",
    "from sklearn.model_selection import GridSearchCV"
   ]
  },
  {
   "cell_type": "code",
   "execution_count": 2,
   "metadata": {},
   "outputs": [],
   "source": [
    "def sliding_window(image, step, window_size):\n",
    "    '''\n",
    "    滑动窗口,首先要做的是用给定尺寸的滑动图片截取物体识别的图像\n",
    "    '''\n",
    "    for y in range(0, image.shape[0]-window_size[0], step):\n",
    "        for x in range(0, image.shape[1]-window_size[1], step):\n",
    "            yield (x,y,image[y:y + window_size[0], x:x + window_size[1]])"
   ]
  },
  {
   "cell_type": "code",
   "execution_count": 21,
   "metadata": {},
   "outputs": [],
   "source": [
    "template=cv2.imread(\"./image/template.JPG\")\n",
    "template_2=template.reshape(-1)"
   ]
  },
  {
   "cell_type": "code",
   "execution_count": 3,
   "metadata": {},
   "outputs": [],
   "source": [
    "#遍历训练集，生成训练集数据。\n",
    "img_list=[]#训练集列表\n",
    "train_y=[]#训练集标签\n",
    "for filename in os.listdir(\"./image/train/0\"):\n",
    "    file=\"./image/train/0/\"+filename\n",
    "    img_rgb=cv2.imread(file)\n",
    "    img_array=list(img_rgb.reshape(-1))\n",
    "    img_list.append(img_array)\n",
    "    train_y.append(0)\n",
    "for filename in os.listdir(\"./image/train/1\"):\n",
    "    file=\"./image/train/1/\"+filename\n",
    "    img_rgb=cv2.imread(file)\n",
    "    img_array=list(img_rgb.reshape(-1))\n",
    "    img_list.append(img_array)\n",
    "    train_y.append(1)"
   ]
  },
  {
   "cell_type": "code",
   "execution_count": 6,
   "metadata": {},
   "outputs": [],
   "source": [
    "#转换成np.ndarray类型\n",
    "train_X = np.array(img_list)"
   ]
  },
  {
   "cell_type": "markdown",
   "metadata": {},
   "source": [
    "归一化预处理，使用sklearn.preprocessing.StandardScaler类，使用该类的好处在于可以保存训练集中的参数（均值、方差）直接使用其对象转换测试集数据。"
   ]
  },
  {
   "cell_type": "code",
   "execution_count": 7,
   "metadata": {
    "scrolled": true
   },
   "outputs": [
    {
     "name": "stderr",
     "output_type": "stream",
     "text": [
      "C:\\Anaconda\\anaconda3\\lib\\site-packages\\sklearn\\utils\\validation.py:595: DataConversionWarning: Data with input dtype uint8 was converted to float64 by StandardScaler.\n",
      "  warnings.warn(msg, DataConversionWarning)\n"
     ]
    }
   ],
   "source": [
    "#归一化预处理，使用sklearn.preprocessing.StandardScaler类，使用该类的好处在于可以保存训练集中的参数（均值、方差）直接使用其对象转换测试集数据。\n",
    "train_X_scaler= preprocessing.StandardScaler().fit(train_X)"
   ]
  },
  {
   "cell_type": "code",
   "execution_count": 8,
   "metadata": {},
   "outputs": [
    {
     "name": "stderr",
     "output_type": "stream",
     "text": [
      "C:\\Anaconda\\anaconda3\\lib\\site-packages\\sklearn\\utils\\validation.py:595: DataConversionWarning: Data with input dtype uint8 was converted to float64 by StandardScaler.\n",
      "  warnings.warn(msg, DataConversionWarning)\n"
     ]
    }
   ],
   "source": [
    "#归一化训练集\n",
    "train_X_sc=train_X_scaler.transform(train_X)"
   ]
  },
  {
   "cell_type": "code",
   "execution_count": 10,
   "metadata": {},
   "outputs": [],
   "source": [
    "#由于训练集的特征数为2000，训练集为1000以下，故采用SVM算法进行回归学习 \n",
    "param_grid = {'C': [1e3, 5e3, 1e4, 5e4, 1e5],\n",
    "              'gamma': [0.0001, 0.0005, 0.001, 0.005, 0.01, 0.1], }#使用多少特征点\n",
    "clf = GridSearchCV(svm.SVC(kernel='rbf', class_weight='balanced'), param_grid)"
   ]
  },
  {
   "cell_type": "code",
   "execution_count": 11,
   "metadata": {},
   "outputs": [
    {
     "name": "stderr",
     "output_type": "stream",
     "text": [
      "C:\\Anaconda\\anaconda3\\lib\\site-packages\\sklearn\\model_selection\\_split.py:2053: FutureWarning: You should specify a value for 'cv' instead of relying on the default value. The default value will change from 3 to 5 in version 0.22.\n",
      "  warnings.warn(CV_WARNING, FutureWarning)\n"
     ]
    }
   ],
   "source": [
    "clf = clf.fit(list(train_X_sc), train_y)"
   ]
  },
  {
   "cell_type": "code",
   "execution_count": 13,
   "metadata": {},
   "outputs": [],
   "source": [
    "#遍历测试集，生成测试集数据。\n",
    "img_test=[]\n",
    "test_y=[]\n",
    "for filename in os.listdir(\"./image/test/0\"):\n",
    "    file=\"./image/test/0/\"+filename\n",
    "    img_rgb=cv2.imread(file)\n",
    "    img_array=list(img_rgb.reshape(-1))\n",
    "    img_test.append(img_array)\n",
    "    test_y.append(0)\n",
    "for filename in os.listdir(\"./image/test/1\"):\n",
    "    file=\"./image/test/1/\"+filename\n",
    "    img_rgb=cv2.imread(file)\n",
    "    img_array=list(img_rgb.reshape(-1))\n",
    "    img_test.append(img_array)\n",
    "    test_y.append(1)"
   ]
  },
  {
   "cell_type": "code",
   "execution_count": 14,
   "metadata": {},
   "outputs": [],
   "source": [
    "test_X = np.array(img_test)"
   ]
  },
  {
   "cell_type": "code",
   "execution_count": 15,
   "metadata": {},
   "outputs": [
    {
     "name": "stderr",
     "output_type": "stream",
     "text": [
      "C:\\Anaconda\\anaconda3\\lib\\site-packages\\sklearn\\utils\\validation.py:595: DataConversionWarning: Data with input dtype uint8 was converted to float64 by StandardScaler.\n",
      "  warnings.warn(msg, DataConversionWarning)\n"
     ]
    }
   ],
   "source": [
    "#归一化测试集数据\n",
    "test_X_sc=train_X_scaler.transform(test_X)"
   ]
  },
  {
   "cell_type": "code",
   "execution_count": 16,
   "metadata": {},
   "outputs": [],
   "source": [
    "#模型训练后，预测测试集\n",
    "y_pred = clf.predict(test_X_sc)"
   ]
  },
  {
   "cell_type": "code",
   "execution_count": 17,
   "metadata": {},
   "outputs": [
    {
     "name": "stdout",
     "output_type": "stream",
     "text": [
      "              precision    recall  f1-score   support\n",
      "\n",
      "           0       1.00      0.87      0.93       139\n",
      "           1       0.22      1.00      0.36         5\n",
      "\n",
      "   micro avg       0.88      0.88      0.88       144\n",
      "   macro avg       0.61      0.94      0.64       144\n",
      "weighted avg       0.97      0.88      0.91       144\n",
      "\n"
     ]
    }
   ],
   "source": [
    "#预测测试统计\n",
    "from sklearn.metrics import classification_report\n",
    "print(classification_report(test_y, y_pred))"
   ]
  },
  {
   "cell_type": "code",
   "execution_count": 18,
   "metadata": {},
   "outputs": [
    {
     "data": {
      "text/plain": [
       "array([0, 0, 0, 0, 0, 0, 0, 0, 0, 0, 0, 0, 0, 0, 0, 0, 0, 0, 0, 0, 0, 0,\n",
       "       1, 0, 0, 0, 0, 0, 0, 0, 0, 0, 1, 1, 0, 0, 0, 0, 0, 0, 0, 1, 1, 0,\n",
       "       0, 0, 0, 0, 0, 0, 0, 0, 1, 1, 0, 0, 0, 0, 0, 1, 1, 0, 0, 0, 0, 0,\n",
       "       0, 0, 0, 0, 1, 1, 0, 0, 0, 0, 0, 0, 1, 1, 1, 1, 0, 0, 0, 0, 0, 0,\n",
       "       0, 0, 0, 0, 0, 1, 0, 0, 0, 0, 0, 1, 1, 0, 0, 0, 0, 0, 0, 0, 0, 0,\n",
       "       0, 0, 0, 0, 0, 0, 0, 0, 0, 0, 0, 0, 0, 0, 0, 0, 0, 0, 0, 0, 0, 0,\n",
       "       0, 0, 0, 0, 0, 0, 0, 1, 1, 1, 1, 1])"
      ]
     },
     "execution_count": 18,
     "metadata": {},
     "output_type": "execute_result"
    }
   ],
   "source": [
    "y_pred"
   ]
  },
  {
   "cell_type": "code",
   "execution_count": 19,
   "metadata": {},
   "outputs": [],
   "source": [
    "#对源图像进行目标定位\n",
    "img_rgb_predict = cv2.imread(\"./image/source.JPG\")"
   ]
  },
  {
   "cell_type": "code",
   "execution_count": 20,
   "metadata": {},
   "outputs": [],
   "source": [
    "template = cv2.imread('./image/object.JPG')"
   ]
  },
  {
   "cell_type": "code",
   "execution_count": 21,
   "metadata": {},
   "outputs": [],
   "source": [
    "#滑窗法对源图像的截取，并使用模型进行预测，预测为目标对象后，保存坐标\n",
    "point_list=[]\n",
    "for image_tuple in sliding_window(img_rgb_predict,2,template.shape):\n",
    "    img=image_tuple[2]\n",
    "    img_array=[list(img.reshape(-1))]\n",
    "    img_X_sc=train_X_scaler.transform(img_array)\n",
    "    y_pred = clf.predict(img_X_sc)\n",
    "    if (y_pred==1):\n",
    "        point = (image_tuple[0], image_tuple[1])\n",
    "        point_list.append(point)"
   ]
  },
  {
   "cell_type": "code",
   "execution_count": 120,
   "metadata": {},
   "outputs": [],
   "source": [
    "# 模板匹配后符合要求的所有图案数量\n",
    "length = len(point_list)\n",
    "# 设定相同点的阈值\n",
    "equal_point_threshold = 10\n",
    "# 如果两个点距离在阈值范围内，则等同，然后用集合去重\n",
    "for i in range(length):\n",
    "    for j in range(length):\n",
    "        if abs(point_list[i][0] - point_list[j][0]) <= equal_point_threshold and abs(\n",
    "                    point_list[i][1] - point_list[j][1]) <= equal_point_threshold:\n",
    "            point_list[i] = point_list[j]\n",
    "point_set = set(point_list)"
   ]
  },
  {
   "cell_type": "code",
   "execution_count": 31,
   "metadata": {},
   "outputs": [
    {
     "data": {
      "text/plain": [
       "-1"
      ]
     },
     "execution_count": 31,
     "metadata": {},
     "output_type": "execute_result"
    }
   ],
   "source": [
    "h, w = template.shape[:2]\n",
    "for pt in point_set:\n",
    "    right_bottom = (pt[0] + w, pt[1] + h)\n",
    "    cv2.rectangle(img_rgb_predict, (pt[0], pt[1]), right_bottom, (0, 0, 255), 1)\n",
    "cv2.imshow('Detected', img_rgb_predict)\n",
    "cv2.waitKey(0)"
   ]
  },
  {
   "cell_type": "markdown",
   "metadata": {},
   "source": [
    "![title](./result.JPG)"
   ]
  },
  {
   "cell_type": "code",
   "execution_count": null,
   "metadata": {},
   "outputs": [],
   "source": []
  }
 ],
 "metadata": {
  "kernelspec": {
   "display_name": "Python 3",
   "language": "python",
   "name": "python3"
  },
  "language_info": {
   "codemirror_mode": {
    "name": "ipython",
    "version": 3
   },
   "file_extension": ".py",
   "mimetype": "text/x-python",
   "name": "python",
   "nbconvert_exporter": "python",
   "pygments_lexer": "ipython3",
   "version": "3.7.3"
  }
 },
 "nbformat": 4,
 "nbformat_minor": 2
}
